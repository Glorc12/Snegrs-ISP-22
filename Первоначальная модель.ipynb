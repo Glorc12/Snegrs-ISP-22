{
  "nbformat": 4,
  "nbformat_minor": 0,
  "metadata": {
    "colab": {
      "provenance": [],
      "authorship_tag": "ABX9TyPWC/YZxtHD5F82UOf7Th1J",
      "include_colab_link": true
    },
    "kernelspec": {
      "name": "python3",
      "display_name": "Python 3"
    },
    "language_info": {
      "name": "python"
    }
  },
  "cells": [
    {
      "cell_type": "markdown",
      "metadata": {
        "id": "view-in-github",
        "colab_type": "text"
      },
      "source": [
        "<a href=\"https://colab.research.google.com/github/Glorc12/Snegrs-ISP-22/blob/main/%D0%9F%D0%B5%D1%80%D0%B2%D0%BE%D0%BD%D0%B0%D1%87%D0%B0%D0%BB%D1%8C%D0%BD%D0%B0%D1%8F%20%D0%BC%D0%BE%D0%B4%D0%B5%D0%BB%D1%8C.ipynb\" target=\"_parent\"><img src=\"https://colab.research.google.com/assets/colab-badge.svg\" alt=\"Open In Colab\"/></a>"
      ]
    },
    {
      "cell_type": "code",
      "execution_count": null,
      "metadata": {
        "colab": {
          "base_uri": "https://localhost:8080/"
        },
        "id": "cWz6fzRUmsC0",
        "outputId": "53351077-be44-4f0a-9400-e88ec21200c1"
      },
      "outputs": [
        {
          "output_type": "stream",
          "name": "stderr",
          "text": [
            "<ipython-input-5-c68180fd55fd>:13: DtypeWarning: Columns (51,52,53,54,55,56,57,58,59,60,61,62,63,64,65,66,87,88,89,90,91,92,93,94,95,96,97,98,99,100,101,102,131,132,133,135,136,139,140,141,142,143,144,145,146,147,148,149,151,152,155,156,157,158,159,160,161,163,164,165,167,168,169,171,172,173,174,175,176,177,178,183,184,185,186,187,188,189,190,191,192,193,194,195,196,197,198,203,204,205,206,207,208,209,210,211,212,213,214,215,216,217,218,223,224,227,239,240,241,242,243,244,245,246,459,460,461,467,468,469,515,516,523,524,531,532,539,540,547,548,555,556,563,564,565,567,571,572,573,575,579,580,581,582,583,587,588,595,596,603,604,611,612,613,615,795,796,797,799,1031,1032,1033,1034,1035,1036,1037,1039,1040,1041,1042,1043,1044,1045,1047,1048,1049,1050,1051,1052,1055,1056,1057,1058,1059,1060,1063,1064,1065,1067,1068,1069,1072,1073,1074,1075,1076,1077,1078,1172,1173,1174,1176,1177,1178,1179,1180,1181,1182,1275,1276,1277,1278,1279,1280,1281,1282,1447,1448,1449,1450,1451,1452,1453,1454,1649,1650,1651,1652,1653,1654,1655,1656,2193,2194,2195,2196,2199) have mixed types. Specify dtype option on import or set low_memory=False.\n",
            "  data = pd.read_csv('/content/train.csv')\n",
            "/usr/local/lib/python3.10/dist-packages/sklearn/impute/_base.py:598: UserWarning: Skipping features without any observed values: ['col773' 'col774' 'col775' 'col776' 'col777' 'col778' 'col779' 'col780'\n",
            " 'col781' 'col782' 'col783' 'col784' 'col785' 'col786' 'col787' 'col788'\n",
            " 'col789' 'col790' 'col791' 'col792' 'col1069' 'col1173' 'col1655'\n",
            " 'col1656' 'col1657' 'col1658' 'col1659' 'col1660' 'col1661' 'col1662'\n",
            " 'col1663' 'col1673' 'col1674' 'col1675' 'col1679' 'col1680' 'col1681'\n",
            " 'col1703' 'col1704' 'col1705' 'col1727' 'col1728' 'col1729' 'col1751'\n",
            " 'col1752' 'col1753' 'col1775' 'col1776' 'col1777' 'col1799' 'col1800'\n",
            " 'col1801' 'col2247' 'col2248' 'col2249' 'col2250' 'col2251' 'col2252'\n",
            " 'col2253' 'col2254' 'col2255' 'col2256' 'col2257' 'col2258' 'col2259'\n",
            " 'col2260' 'col2261' 'col2262' 'col2263' 'col2264' 'col2265' 'col2266'\n",
            " 'col2267' 'col2268' 'col2269' 'col2270' 'col2535' 'col2536' 'col2537'\n",
            " 'col2538' 'col2539' 'col2540' 'col2541' 'col2542']. At least one non-missing value is needed for imputation with strategy='median'.\n",
            "  warnings.warn(\n",
            "/usr/local/lib/python3.10/dist-packages/sklearn/impute/_base.py:598: UserWarning: Skipping features without any observed values: ['col773' 'col774' 'col775' 'col776' 'col777' 'col778' 'col779' 'col780'\n",
            " 'col781' 'col782' 'col783' 'col784' 'col785' 'col786' 'col787' 'col788'\n",
            " 'col789' 'col790' 'col791' 'col792' 'col1069' 'col1173' 'col1655'\n",
            " 'col1656' 'col1657' 'col1658' 'col1659' 'col1660' 'col1661' 'col1662'\n",
            " 'col1663' 'col1673' 'col1674' 'col1675' 'col1679' 'col1680' 'col1681'\n",
            " 'col1703' 'col1704' 'col1705' 'col1727' 'col1728' 'col1729' 'col1751'\n",
            " 'col1752' 'col1753' 'col1775' 'col1776' 'col1777' 'col1799' 'col1800'\n",
            " 'col1801' 'col2247' 'col2248' 'col2249' 'col2250' 'col2251' 'col2252'\n",
            " 'col2253' 'col2254' 'col2255' 'col2256' 'col2257' 'col2258' 'col2259'\n",
            " 'col2260' 'col2261' 'col2262' 'col2263' 'col2264' 'col2265' 'col2266'\n",
            " 'col2267' 'col2268' 'col2269' 'col2270' 'col2535' 'col2536' 'col2537'\n",
            " 'col2538' 'col2539' 'col2540' 'col2541' 'col2542']. At least one non-missing value is needed for imputation with strategy='median'.\n",
            "  warnings.warn(\n"
          ]
        },
        {
          "output_type": "stream",
          "name": "stdout",
          "text": [
            "ROC-AUC на тестовых данных: 0.9523\n",
            "Результаты сохранены в submission_file.csv\n"
          ]
        }
      ],
      "source": [
        "import pandas as pd\n",
        "import numpy as np\n",
        "from sklearn.model_selection import train_test_split\n",
        "from sklearn.ensemble import RandomForestClassifier\n",
        "from sklearn.metrics import roc_auc_score\n",
        "from sklearn.impute import SimpleImputer\n",
        "from sklearn.preprocessing import StandardScaler, OneHotEncoder\n",
        "from sklearn.compose import ColumnTransformer\n",
        "from sklearn.pipeline import Pipeline\n",
        "\n",
        "data = pd.read_csv('/content/train.csv')\n",
        "\n",
        "X = data.drop(columns=['client_id', 'target', 'report_date'])\n",
        "y = data['target']\n",
        "\n",
        "numeric_features = X.select_dtypes(include=['int64', 'float64']).columns\n",
        "categorical_features = X.select_dtypes(include=['object', 'category']).columns\n",
        "\n",
        "X[categorical_features] = X[categorical_features].astype(str)\n",
        "\n",
        "numeric_transformer = Pipeline(steps=[\n",
        "    ('imputer', SimpleImputer(strategy='median')),\n",
        "    ('scaler', StandardScaler())\n",
        "])\n",
        "\n",
        "categorical_transformer = Pipeline(steps=[\n",
        "    ('imputer', SimpleImputer(strategy='most_frequent')),\n",
        "    ('onehot', OneHotEncoder(handle_unknown='ignore'))\n",
        "])\n",
        "\n",
        "preprocessor = ColumnTransformer(\n",
        "    transformers=[\n",
        "        ('num', numeric_transformer, numeric_features),\n",
        "        ('cat', categorical_transformer, categorical_features)\n",
        "    ]\n",
        ")\n",
        "\n",
        "model = Pipeline(steps=[\n",
        "    ('preprocessor', preprocessor),\n",
        "    ('classifier', RandomForestClassifier(random_state=42, n_estimators=100, class_weight='balanced'))\n",
        "])\n",
        "\n",
        "X_train, X_test, y_train, y_test = train_test_split(X, y, test_size=0.2, random_state=42, stratify=y)\n",
        "\n",
        "model.fit(X_train, y_train)\n",
        "\n",
        "test_preds = model.predict_proba(X_test)[:, 1]\n",
        "test_score = roc_auc_score(y_test, test_preds)\n",
        "print(f\"ROC-AUC на тестовых данных: {test_score:.4f}\")\n",
        "\n",
        "submission = pd.DataFrame({'client_id': data.loc[X_test.index, 'client_id'], 'score': test_preds})\n",
        "submission.to_csv('submission_file.csv', index=False)\n",
        "print(\"Результаты сохранены в submission_file.csv\")"
      ]
    }
  ]
}